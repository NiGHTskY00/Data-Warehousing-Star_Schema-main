{
 "cells": [
  {
   "cell_type": "markdown",
   "id": "73952f9b-3d1f-497f-a70a-6cf184a75fb8",
   "metadata": {},
   "source": [
    "I made new database in my postgre sql server 'dvdrental' and in that database i have 15 tables , now i am going to make a data warehouse, where i will take important parameters from tables that are necessary for further analysis and contributing to the business."
   ]
  },
  {
   "cell_type": "code",
   "execution_count": 46,
   "id": "e23b577f-04c1-494e-9ef8-44517a4aec80",
   "metadata": {},
   "outputs": [
    {
     "name": "stdout",
     "output_type": "stream",
     "text": [
      "created successfully\n"
     ]
    }
   ],
   "source": [
    "import psycopg2\n",
    "\n",
    "\n",
    "\n",
    "host = \"localhost\"  \n",
    "port = \"5432\"       \n",
    "dbname = \"dvdrental\"\n",
    "user = \"postgres\"\n",
    "password = \"akdataeng\"\n",
    "\n",
    "\n",
    "create_table_query = \"\"\"\n",
    "CREATE TABLE dimDate (\n",
    "    date_key integer PRIMARY KEY,\n",
    "    date date NOT NULL,\n",
    "    year smallint NOT NULL,\n",
    "    quarter smallint NOT NULL,\n",
    "    month smallint NOT NULL,\n",
    "    day smallint NOT NULL,\n",
    "    week smallint NOT NULL,\n",
    "    is_weekend boolean\n",
    ");\n",
    "\n",
    "\"\"\"\n",
    "    \n",
    "connection = psycopg2.connect(\n",
    "    host=host,\n",
    "    port=port,\n",
    "    dbname=dbname,\n",
    "    user=user,\n",
    "    password=password\n",
    ")\n",
    "    \n",
    "cursor = connection.cursor()\n",
    "    \n",
    "\n",
    "cursor.execute(create_table_query)\n",
    "\n",
    "connection.commit()\n",
    "print('created successfully')\n",
    "    \n",
    "\n"
   ]
  },
  {
   "cell_type": "code",
   "execution_count": 23,
   "id": "ceecf2da-85b3-45d0-8c89-a39b0929050c",
   "metadata": {},
   "outputs": [
    {
     "name": "stdout",
     "output_type": "stream",
     "text": [
      "created successfully\n"
     ]
    }
   ],
   "source": [
    "create_table_dimcustomer = \"\"\"\n",
    "CREATE TABLE dimCustomer (\n",
    "    customer_key SERIAL PRIMARY KEY,\n",
    "    customer_id smallint NOT NULL,\n",
    "    first_name VARCHAR(45) NOT NULL,\n",
    "    last_name VARCHAR(45) NOT NULL,\n",
    "    email VARCHAR(45) NOT NULL,\n",
    "    address VARCHAR(50) NOT NULL,\n",
    "    address2 VARCHAR(50) NOT NULL,\n",
    "    district VARCHAR(45) NOT NULL,\n",
    "    city VARCHAR(45) NOT NULL,\n",
    "    country VARCHAR(45) NOT NULL,\n",
    "    postal_code VARCHAR(45),\n",
    "    phone VARCHAR(20) NOT NULL,\n",
    "    active smallint NOT NULL,\n",
    "    create_date timestamp NOT NULL,\n",
    "    start_date date NOT NULL,\n",
    "    end_date date NOT NULL   \n",
    ");\n",
    "\"\"\"\n",
    "cursor.execute(create_table_dimcustomer)\n",
    "\n",
    "connection.commit()\n",
    "print('created successfully')"
   ]
  },
  {
   "cell_type": "code",
   "execution_count": null,
   "id": "f06d2c33-1fa8-4070-93ff-58d126e9bf08",
   "metadata": {},
   "outputs": [],
   "source": []
  },
  {
   "cell_type": "code",
   "execution_count": 24,
   "id": "e61a11d8-3638-4f00-893a-0d61ca7559c6",
   "metadata": {},
   "outputs": [
    {
     "name": "stdout",
     "output_type": "stream",
     "text": [
      "created successfully\n"
     ]
    }
   ],
   "source": [
    "create_table_dimStore = \"\"\"\n",
    "CREATE TABLE dimStore (\n",
    "    store_key SERIAL PRIMARY KEY,\n",
    "    store_id smallint NOT NULL,\n",
    "    address VARCHAR(50) NOT NULL,\n",
    "    address2 VARCHAR(50) NOT NULL,\n",
    "    district VARCHAR(45) NOT NULL,\n",
    "    city VARCHAR(50) NOT NULL,\n",
    "    country VARCHAR(50) NOT NULL,\n",
    "    postal_code VARCHAR(45) NOT NULL,\n",
    "    manager_firstname VARCHAR(45) NOT NULL,\n",
    "    manager_lastname VARCHAR(45) NOT NULL,\n",
    "    start_date date NOT NULL,\n",
    "    end_date date NOT NULL \n",
    ");\n",
    "\"\"\"\n",
    "cursor.execute(create_table_dimStore)\n",
    "\n",
    "connection.commit()\n",
    "print('created successfully')"
   ]
  },
  {
   "cell_type": "code",
   "execution_count": null,
   "id": "77fc4168-5c6b-47a6-82df-1fdf7cc0b077",
   "metadata": {},
   "outputs": [],
   "source": []
  },
  {
   "cell_type": "code",
   "execution_count": 32,
   "id": "06e54dbc-13f2-4c83-9cba-f9c83fd04cf6",
   "metadata": {},
   "outputs": [
    {
     "name": "stdout",
     "output_type": "stream",
     "text": [
      "created successfully\n"
     ]
    }
   ],
   "source": [
    "host = \"localhost\"  \n",
    "port = \"5432\"       \n",
    "dbname = \"dvdrental\"\n",
    "user = \"postgres\"\n",
    "password = \"akdataeng\"\n",
    "\n",
    "connection = psycopg2.connect(\n",
    "    host=host,\n",
    "    port=port,\n",
    "    dbname=dbname,\n",
    "    user=user,\n",
    "    password=password\n",
    ")\n",
    "    \n",
    "cursor = connection.cursor()\n",
    "\n",
    "create_table_dimMovie = \"\"\"\n",
    "CREATE TABLE dimMovie (\n",
    "    movie_key SERIAL PRIMARY KEY,\n",
    "    film_id smallint NOT NULL,\n",
    "    title VARCHAR(255) NOT NULL,\n",
    "    description text NOT NULL,\n",
    "    release_year year NOT NULL,\n",
    "    language VARCHAR(50) NOT NULL,\n",
    "    original_language VARCHAR(60) NOT NULL,\n",
    "    rental_duration smallint NOT NULL,\n",
    "    length smallint NOT NULL,\n",
    "    rating VARCHAR(5) NOT NULL,\n",
    "    special_feature VARCHAR(60) NOT NULL\n",
    ");\n",
    "\"\"\"\n",
    "cursor.execute(create_table_dimMovie)\n",
    "\n",
    "connection.commit()\n",
    "print('created successfully')"
   ]
  },
  {
   "cell_type": "code",
   "execution_count": 47,
   "id": "9aec9ee9-5bde-485f-a36d-25acfe808fa9",
   "metadata": {},
   "outputs": [
    {
     "name": "stdout",
     "output_type": "stream",
     "text": [
      "inserted successfully\n"
     ]
    }
   ],
   "source": [
    "\n",
    "\n",
    "insert_query_dimDate = \"\"\"\n",
    "INSERT INTO dimDate (date_key,date,year,quarter,month,day,week,is_weekend)\n",
    "SELECT\n",
    "        DISTINCT(TO_CHAR(payment_date :: DATE, 'yyyyMMDD')::integer) as date_key,\n",
    "        date(payment_date) as date,\n",
    "        EXTRACT(year from payment_date) as year,\n",
    "        EXTRACT(quarter from payment_date) as quarter,\n",
    "        EXTRACT(month from payment_date) as month,\n",
    "        EXTRACT(day from payment_date) as day,\n",
    "        EXTRACT(week from payment_date) as week,\n",
    "        CASE WHEN EXTRACT(ISODOW FROM payment_date) IN (6,7) THEN True ELSE False END AS is_weekend\n",
    "FROM payment;\n",
    "\"\"\"\n",
    "\n",
    "cursor.execute(insert_query_dimDate)\n",
    "connection.commit()\n",
    "print('inserted successfully')"
   ]
  },
  {
   "cell_type": "code",
   "execution_count": null,
   "id": "4cda3b27-b776-48a4-9410-699f6e293d0c",
   "metadata": {},
   "outputs": [],
   "source": []
  },
  {
   "cell_type": "code",
   "execution_count": 27,
   "id": "2cdb2d3b-dbe3-4e9e-a8df-3774b8df24ae",
   "metadata": {},
   "outputs": [
    {
     "name": "stdout",
     "output_type": "stream",
     "text": [
      "inserted successfully\n"
     ]
    }
   ],
   "source": [
    "host = \"localhost\"  \n",
    "port = \"5432\"       \n",
    "dbname = \"dvdrental\"\n",
    "user = \"postgres\"\n",
    "password = \"akdataeng\"\n",
    "\n",
    "connection = psycopg2.connect(\n",
    "    host=host,\n",
    "    port=port,\n",
    "    dbname=dbname,\n",
    "    user=user,\n",
    "    password=password\n",
    ")\n",
    "    \n",
    "cursor = connection.cursor()\n",
    "\n",
    "insert_query_dimCustomer = \"\"\"INSERT INTO dimCustomer (customer_key, customer_id, first_name, last_name, email, address, \n",
    "                         address2, district, city, country, postal_code, phone, active, \n",
    "                         create_date, start_date, end_date)\n",
    "SELECT  c.customer_id as customer_key,\n",
    "        c.customer_id,\n",
    "        c.first_name,\n",
    "        c.last_name,\n",
    "        c.email,\n",
    "        a.address,\n",
    "        a.address2,\n",
    "        a.district,\n",
    "        ci.city,\n",
    "        co.country,\n",
    "        postal_code,\n",
    "        a.phone,\n",
    "        c.active,\n",
    "        c.create_date,\n",
    "       now()         AS start_date,\n",
    "       now()         AS end_date\n",
    "FROM customer c\n",
    "JOIN address a  ON (c.address_id = a.address_id)\n",
    "JOIN city ci    ON (a.city_id = ci.city_id)\n",
    "JOIN country co ON (ci.country_id = co.country_id);\n",
    "\"\"\"\n",
    "\n",
    "cursor.execute(insert_query_dimCustomer)\n",
    "connection.commit()\n",
    "print('inserted successfully')\n"
   ]
  },
  {
   "cell_type": "code",
   "execution_count": 28,
   "id": "871d6f0f-b82c-4244-8046-cba4198ede2b",
   "metadata": {},
   "outputs": [],
   "source": [
    "connection.close()\n",
    "cursor.close()"
   ]
  },
  {
   "cell_type": "code",
   "execution_count": 33,
   "id": "c09b7727-4cf0-43a9-b46c-0db235daa73a",
   "metadata": {},
   "outputs": [
    {
     "name": "stdout",
     "output_type": "stream",
     "text": [
      "inserted successfully\n"
     ]
    }
   ],
   "source": [
    "host = \"localhost\"  \n",
    "port = \"5432\"       \n",
    "dbname = \"dvdrental\"\n",
    "user = \"postgres\"\n",
    "password = \"akdataeng\"\n",
    "\n",
    "connection = psycopg2.connect(\n",
    "    host=host,\n",
    "    port=port,\n",
    "    dbname=dbname,\n",
    "    user=user,\n",
    "    password=password\n",
    ")\n",
    "    \n",
    "cursor = connection.cursor()\n",
    "\n",
    "insert_query_dimMovie = \"\"\"INSERT INTO dimMovie (movie_key, film_id, title, description, release_year, language, original_language, rental_duration, length, rating, special_feature)\n",
    "SELECT \n",
    "    f.film_id as movie_key,\n",
    "    f.film_id,\n",
    "    f.title, \n",
    "    f.description,\n",
    "    f.release_year,\n",
    "    l.name as language,\n",
    "    orig_lang.name AS original_language,\n",
    "    f.rental_duration,\n",
    "    f.length,\n",
    "    f.rating,\n",
    "    f.special_features\n",
    "FROM film f\n",
    "JOIN language l              ON (f.language_id=l.language_id)\n",
    "LEFT JOIN language orig_lang ON (f.language_id = orig_lang.language_id);\n",
    "\"\"\"\n",
    "\n",
    "cursor.execute(insert_query_dimMovie)\n",
    "connection.commit()\n",
    "print('inserted successfully')"
   ]
  },
  {
   "cell_type": "code",
   "execution_count": 37,
   "id": "0b943201-ce2e-4e50-aac2-56ca0096df95",
   "metadata": {},
   "outputs": [],
   "source": [
    "connection.close()\n",
    "cursor.close()"
   ]
  },
  {
   "cell_type": "code",
   "execution_count": 43,
   "id": "a1d754be-1950-42b1-a934-56c97c618c72",
   "metadata": {},
   "outputs": [
    {
     "name": "stdout",
     "output_type": "stream",
     "text": [
      "inserted successfully\n"
     ]
    }
   ],
   "source": [
    "host = \"localhost\"  \n",
    "port = \"5432\"       \n",
    "dbname = \"dvdrental\"\n",
    "user = \"postgres\"\n",
    "password = \"akdataeng\"\n",
    "\n",
    "connection = psycopg2.connect(\n",
    "    host=host,\n",
    "    port=port,\n",
    "    dbname=dbname,\n",
    "    user=user,\n",
    "    password=password\n",
    ")\n",
    "    \n",
    "cursor = connection.cursor()\n",
    "\n",
    "insert_query_dimStore = \"\"\"INSERT INTO dimStore (store_key, store_id, address, address2, district, city, country, postal_code, manager_firstname, manager_lastname, start_date, end_date)\n",
    "SELECT\n",
    "    s.store_id as store_key,\n",
    "    s.store_id,\n",
    "    a.address,\n",
    "    a.address2,\n",
    "    a.district,\n",
    "    c.city,\n",
    "    co.country,\n",
    "    a.postal_code,\n",
    "    st.first_name as manager_first_name,\n",
    "    st.last_name  as manager_last_name,\n",
    "    now() as start_date,\n",
    "    now() as end_date\n",
    "FROM store s\n",
    "JOIN staff st     ON    (s.manager_staff_id = st.staff_id)\n",
    "JOIN address a    ON    (s.address_id = a.address_id)\n",
    "JOIN city c       ON    (a.city_id = c.city_id)\n",
    "JOIN country co   ON    (c.country_id = co.country_id);\n",
    "\"\"\"\n",
    "\n",
    "cursor.execute(\"\"\"ALTER TABLE dimstore ALTER COLUMN address2 DROP NOT NULL;\n",
    "\"\"\")\n",
    "\n",
    "cursor.execute(insert_query_dimStore)\n",
    "connection.commit()\n",
    "print('inserted successfully')"
   ]
  },
  {
   "cell_type": "code",
   "execution_count": 48,
   "id": "ed3db3d4-4303-48cb-a366-84a39c3249a5",
   "metadata": {},
   "outputs": [
    {
     "name": "stdout",
     "output_type": "stream",
     "text": [
      "Run Successfully\n"
     ]
    }
   ],
   "source": [
    "create_factsales_query = \"\"\"CREATE TABLE factSales\n",
    "    (\n",
    "        sales_key SERIAL PRIMARY KEY,\n",
    "        date_key integer REFERENCES dimDate (date_key),\n",
    "        customer_key integer REFERENCES dimCustomer (customer_key),\n",
    "        movie_key integer REFERENCES dimMovie (movie_key),\n",
    "        store_key integer REFERENCES dimStore (store_key),\n",
    "        sales_amount numeric\n",
    "    );\n",
    "\"\"\"\n",
    "\n",
    "insert_factsales_query = \"\"\"INSERT INTO factSales (date_key, customer_key, movie_key, store_key, sales_amount)\n",
    "SELECT \n",
    "        TO_CHAR(payment_date :: DATE, 'yyyyMMDD')::integer AS date_key,\n",
    "        p.customer_id  as customer_key,\n",
    "        i.film_id as movie_key,\n",
    "        i.store_id as store_key,\n",
    "        p.amount as sales_amount\n",
    "FROM payment p \n",
    "JOIN rental r ON (p.rental_id = r.rental_id)\n",
    "JOIN inventory i ON (r.inventory_id = i.inventory_id);\n",
    "\"\"\"\n",
    "\n",
    "cursor.execute(create_factsales_query)\n",
    "cursor.execute(insert_factsales_query)\n",
    "connection.commit()\n",
    "print('Run Successfully')"
   ]
  },
  {
   "cell_type": "markdown",
   "id": "bd75c687-65a9-40e4-a900-55a5c5d16047",
   "metadata": {},
   "source": [
    "After this i run query for 3nf model and star schema model and schema model took less time to run. Currently i have less data if this data had been in Gbs or Tbs then there would have been much difference between both running time. My 3nf model took 2 seconds and 538 ms while star schema took 1 second 345 ms."
   ]
  },
  {
   "cell_type": "code",
   "execution_count": null,
   "id": "da0344a6-abb5-4756-8880-d10080a22ec0",
   "metadata": {},
   "outputs": [],
   "source": []
  }
 ],
 "metadata": {
  "kernelspec": {
   "display_name": "Python 3 (ipykernel)",
   "language": "python",
   "name": "python3"
  },
  "language_info": {
   "codemirror_mode": {
    "name": "ipython",
    "version": 3
   },
   "file_extension": ".py",
   "mimetype": "text/x-python",
   "name": "python",
   "nbconvert_exporter": "python",
   "pygments_lexer": "ipython3",
   "version": "3.11.5"
  }
 },
 "nbformat": 4,
 "nbformat_minor": 5
}
